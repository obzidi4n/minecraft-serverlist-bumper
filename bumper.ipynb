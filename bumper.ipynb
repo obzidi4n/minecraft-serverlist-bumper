{
 "cells": [
  {
   "cell_type": "code",
   "execution_count": 1,
   "metadata": {},
   "outputs": [],
   "source": [
    "from api_classes.selenium import Selenium\n",
    "import time\n",
    "import yaml\n",
    "import shutil"
   ]
  },
  {
   "cell_type": "code",
   "execution_count": 2,
   "metadata": {},
   "outputs": [],
   "source": [
    "# set vars\n",
    "with open('config.yml', 'r') as config:\n",
    "  cfg = yaml.full_load(config)\n",
    "\n",
    "tmp_folder = 'browser_cache/jupyter_notebook'"
   ]
  },
  {
   "cell_type": "code",
   "execution_count": 3,
   "metadata": {},
   "outputs": [],
   "source": [
    "# open new session\n",
    "\n",
    "try:\n",
    "    shutil.rmtree(tmp_folder)\n",
    "except:\n",
    "    pass\n",
    "\n",
    "api = Selenium(tmp_folder, browser=True) ## \n",
    "#api = Selenium(tmp_folder, browser=False) ##"
   ]
  },
  {
   "cell_type": "markdown",
   "metadata": {},
   "source": [
    "## discord-notify testing"
   ]
  },
  {
   "cell_type": "code",
   "execution_count": null,
   "metadata": {},
   "outputs": [],
   "source": [
    "import discord_notify as dn"
   ]
  },
  {
   "cell_type": "code",
   "execution_count": null,
   "metadata": {},
   "outputs": [],
   "source": [
    "webhook_url = 'https://discord.com/api/webhooks/785293168044015617/B4BZpyx3xFsjiTE0kwQPywGsAjQINOWQ-zMyKqOphZ89nPFdf-sV0BzuYaeqDLuF_MIl'\n",
    "notifier = dn.Notifier(webhook_url)"
   ]
  },
  {
   "cell_type": "code",
   "execution_count": null,
   "metadata": {},
   "outputs": [],
   "source": [
    "notifier.send(\"Hello, world!\", print_message=False)"
   ]
  },
  {
   "cell_type": "markdown",
   "metadata": {},
   "source": [
    "## planetminecraft.com"
   ]
  },
  {
   "cell_type": "code",
   "execution_count": null,
   "metadata": {},
   "outputs": [],
   "source": [
    "# login\n",
    "api.get_url(cfg['url_login'])\n",
    "api.set_input_value('//input[@id=\"email\"]', cfg['username'])\n",
    "api.set_input_value('//input[@id=\"password\"]', cfg['password'])\n",
    "api.click('//input[@name=\"login\"]')"
   ]
  },
  {
   "cell_type": "code",
   "execution_count": null,
   "metadata": {},
   "outputs": [],
   "source": [
    "# bump (login needed)\n",
    "api.get_url(cfg['url_bump'])\n",
    "time.sleep(3)\n",
    "\n",
    "api.click('//a[contains(text(),\"Bump Submission\")]')\n",
    "print(cfg['site'] + ' bumped')"
   ]
  },
  {
   "cell_type": "code",
   "execution_count": null,
   "metadata": {},
   "outputs": [],
   "source": [
    "# vote (no login needed)\n",
    "api.get_url(cfg['url_vote'])\n",
    "api.set_input_value('//input[@name=\"mcname\"]', cfg['vote_name'])\n",
    "api.click('//input[@class=\"r3submit\"]')\n",
    "\n",
    "print(cfg['site'] + ' voted')"
   ]
  },
  {
   "cell_type": "markdown",
   "metadata": {},
   "source": [
    "## discordservers.com"
   ]
  },
  {
   "cell_type": "code",
   "execution_count": null,
   "metadata": {},
   "outputs": [],
   "source": [
    "# login\n",
    "api.get_url(cfg['url_login'])\n",
    "time.sleep(3)"
   ]
  },
  {
   "cell_type": "code",
   "execution_count": null,
   "metadata": {},
   "outputs": [],
   "source": [
    "api.click('//img[@alt=\"Menu Image\"]')\n",
    "api.click('//span[contains(.,\"Log In\")]')\n",
    "time.sleep(3)"
   ]
  },
  {
   "cell_type": "code",
   "execution_count": null,
   "metadata": {},
   "outputs": [],
   "source": [
    "api.set_input_value('//input[@name=\"email\"]', cfg['username'])\n",
    "api.set_input_value('//input[@name=\"password\"]', cfg['password'])\n",
    "api.click('//button[@type=\"submit\"]')\n",
    "time.sleep(3)"
   ]
  },
  {
   "cell_type": "code",
   "execution_count": null,
   "metadata": {},
   "outputs": [],
   "source": [
    "# bump\n",
    "api.get_url(cfg['url_bump'])\n",
    "time.sleep(3)\n",
    "\n",
    "api.click('//button[contains(@class,\"Button_btn__2GreU Button_large__1DH7q Button_cta__3kIzZ\")]') # \"Give Free Gems!\"\n",
    "print(cfg['site'] + ' bumped')"
   ]
  },
  {
   "cell_type": "markdown",
   "metadata": {},
   "source": [
    "## mc-servers.com"
   ]
  },
  {
   "cell_type": "code",
   "execution_count": null,
   "metadata": {},
   "outputs": [],
   "source": [
    "# cookie notification\n",
    "api.get_url(cfg['url_login'])\n",
    "time.sleep(3)\n",
    "\n",
    "api.click('//a[@class=\"cc-btn cc-dismiss\"]')"
   ]
  },
  {
   "cell_type": "code",
   "execution_count": null,
   "metadata": {},
   "outputs": [],
   "source": [
    "# login\n",
    "api.get_url(cfg['url_login']) # again\n",
    "api.set_input_value('//input[contains(@name,\"username\")]', cfg['username'])\n",
    "api.set_input_value('//input[contains(@name,\"password\")]', cfg['password'])\n",
    "api.click('//button[@type=\"submit\"][contains(.,\"Login\")]')"
   ]
  },
  {
   "cell_type": "code",
   "execution_count": null,
   "metadata": {},
   "outputs": [],
   "source": [
    "# bump (login needed)\n",
    "api.get_url(cfg['url_bump'])\n",
    "\n",
    "print(cfg['site'] + ' bumped')"
   ]
  },
  {
   "cell_type": "code",
   "execution_count": null,
   "metadata": {},
   "outputs": [],
   "source": [
    "# vote (no login needed)\n",
    "api.get_url(cfg['url_vote'])\n",
    "api.set_input_value('//input[@id=\"username\"]', cfg['vote_name'])\n",
    "\n",
    "# solve captcha manually"
   ]
  },
  {
   "cell_type": "markdown",
   "metadata": {},
   "source": [
    "### minecraft-server.net"
   ]
  },
  {
   "cell_type": "code",
   "execution_count": 4,
   "metadata": {},
   "outputs": [],
   "source": [
    "# login\n",
    "api.get_url(cfg['url_login'])\n",
    "time.sleep(3)\n",
    "\n",
    "api.set_input_value('//input[@class=\"form-control\"][contains(@id,\"username\")]', cfg['username'])\n",
    "api.set_input_value('//input[@class=\"form-control\"][contains(@id,\"password\")]', cfg['password'])\n",
    "api.click('//button[contains(.,\"Log In\")]')"
   ]
  },
  {
   "cell_type": "code",
   "execution_count": null,
   "metadata": {},
   "outputs": [],
   "source": [
    "# bump (login needed)\n",
    "api.get_url(cfg['url_bump'])\n",
    "api.click('//input[contains(@value,'Bump your Server')]')\n",
    "\n",
    "print(cfg['site'] + ' bumped')"
   ]
  },
  {
   "cell_type": "code",
   "execution_count": null,
   "metadata": {},
   "outputs": [],
   "source": [
    "# vote (no login needed)\n",
    "api.get_url(cfg['url_vote'])\n",
    "api.set_input_value('//input[@name=\"mc_user\"]', cfg['vote_name'])\n",
    "api.click('//label[contains(@for,\"rate-10\")]')\n",
    "\n",
    "# solve captcha"
   ]
  },
  {
   "cell_type": "markdown",
   "metadata": {},
   "source": [
    "### serverlist.games"
   ]
  },
  {
   "cell_type": "code",
   "execution_count": null,
   "metadata": {},
   "outputs": [],
   "source": [
    "# login\n",
    "api.get_url(cfg['url_login'])\n",
    "api.set_input_value('//input[@name=\"username\"]', cfg['username'])\n",
    "api.set_input_value('//input[@name=\"password\"]', cfg['password'])\n",
    "api.click('//button[@type=\"submit\"]')"
   ]
  },
  {
   "cell_type": "code",
   "execution_count": null,
   "metadata": {},
   "outputs": [],
   "source": [
    "# bump (login needed)\n",
    "api.get_url(cfg['url_bump'])\n",
    "time.sleep(3)\n",
    "api.click('//h5[contains(.,\"Bump\")]')\n",
    "\n",
    "print(cfg['site'] + ' bumped')"
   ]
  },
  {
   "cell_type": "code",
   "execution_count": null,
   "metadata": {},
   "outputs": [],
   "source": [
    "# vote (no login needed)\n",
    "api.get_url(cfg['url_vote'])\n",
    "time.sleep(3)\n",
    "api.set_input_value('//input[contains(@id,\"username\")]', cfg['vote_name'])"
   ]
  },
  {
   "cell_type": "code",
   "execution_count": null,
   "metadata": {},
   "outputs": [],
   "source": [
    "# solve captcha\n",
    "api.click('//ngx-recaptcha2')"
   ]
  },
  {
   "cell_type": "markdown",
   "metadata": {},
   "source": [
    "### serverpact.com"
   ]
  },
  {
   "cell_type": "code",
   "execution_count": null,
   "metadata": {},
   "outputs": [],
   "source": [
    "# login\n",
    "api.get_url(cfg['url_login'])\n",
    "api.set_input_value('//input[@name=\"gebruikersnaam\"]', cfg['username'])\n",
    "api.set_input_value('//input[contains(@type,\"password\")]', cfg['password'])\n",
    "api.click('//input[@type=\"submit\"]')"
   ]
  },
  {
   "cell_type": "code",
   "execution_count": null,
   "metadata": {},
   "outputs": [],
   "source": [
    "# bump (login needed)\n",
    "bump_text = 'This is my blog post'\n",
    "bump_validation = 'nine'"
   ]
  },
  {
   "cell_type": "code",
   "execution_count": null,
   "metadata": {},
   "outputs": [],
   "source": [
    "api.get_url(cfg['url_bump'])\n",
    "api.set_input_value('//textarea[@name=\"blogbericht\"]', bump_text)\n",
    "api.set_input_value('//input[contains(@name,\"taal\")]', bump_validation)\n",
    "api.click('//input[@type=\"submit\"]')\n",
    "\n",
    "print(cfg['site'] + ' bumped')"
   ]
  },
  {
   "cell_type": "code",
   "execution_count": null,
   "metadata": {},
   "outputs": [],
   "source": [
    "# vote (no login needed)\n",
    "api.get_url(cfg['url_vote'])\n",
    "api.set_input_value('//input[@name=\"minecraftusername\"]', cfg['vote_name'])\n",
    "\n",
    "# solve puzzle"
   ]
  },
  {
   "cell_type": "markdown",
   "metadata": {},
   "source": [
    "### topg"
   ]
  },
  {
   "cell_type": "code",
   "execution_count": null,
   "metadata": {},
   "outputs": [],
   "source": [
    "# login\n",
    "api.get_url(cfg['url_login'])\n",
    "api.set_input_value('//input[@placeholder=\"Username\"]', cfg['username'])\n",
    "api.set_input_value('//input[contains(@type,\"password\")]', cfg['password'])\n",
    "api.click('//button[contains(.,\"Login\")]')"
   ]
  },
  {
   "cell_type": "code",
   "execution_count": null,
   "metadata": {},
   "outputs": [],
   "source": [
    "# bump (login needed)\n",
    "api.get_url(cfg['url_bump'])\n",
    "\n",
    "# fill manually"
   ]
  },
  {
   "cell_type": "code",
   "execution_count": null,
   "metadata": {},
   "outputs": [],
   "source": [
    "# vote (no login needed)\n",
    "api.get_url(cfg['url_vote'])\n",
    "api.set_input_value('//input[@name=\"mc_username\"]', cfg['vote_name'])\n",
    "api.click('//span[contains(.,\"Submit your vote\")]')"
   ]
  }
 ],
 "metadata": {
  "kernelspec": {
   "display_name": "Python 3",
   "language": "python",
   "name": "python3"
  },
  "language_info": {
   "codemirror_mode": {
    "name": "ipython",
    "version": 3
   },
   "file_extension": ".py",
   "mimetype": "text/x-python",
   "name": "python",
   "nbconvert_exporter": "python",
   "pygments_lexer": "ipython3",
   "version": "3.8.3"
  }
 },
 "nbformat": 4,
 "nbformat_minor": 4
}
