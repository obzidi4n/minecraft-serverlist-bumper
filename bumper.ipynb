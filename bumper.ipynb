{
 "cells": [
  {
   "cell_type": "code",
   "execution_count": 1,
   "metadata": {},
   "outputs": [],
   "source": [
    "from api_classes.selenium import Selenium\n",
    "import time\n",
    "import yaml"
   ]
  },
  {
   "cell_type": "code",
   "execution_count": 2,
   "metadata": {},
   "outputs": [],
   "source": [
    "# set vars\n",
    "with open('config.yml', 'r') as config:\n",
    "  cfg = yaml.full_load(config)\n",
    "\n",
    "tmp_folder = 'data_notebook'"
   ]
  },
  {
   "cell_type": "code",
   "execution_count": 3,
   "metadata": {},
   "outputs": [
    {
     "name": "stdout",
     "output_type": "stream",
     "text": [
      "stopping orphaned processes..\n",
      "opened browser\n"
     ]
    }
   ],
   "source": [
    "# open session\n",
    "api = Selenium(tmp_folder, browser=True) ## browser=True for testing only\n",
    "print('opened browser')"
   ]
  },
  {
   "cell_type": "markdown",
   "metadata": {},
   "source": [
    "## planetminecraft.com"
   ]
  },
  {
   "cell_type": "code",
   "execution_count": 4,
   "metadata": {},
   "outputs": [],
   "source": [
    "# go to page\n",
    "api.get_url(cfg['sites']['url'])\n",
    "time.sleep(3)\n",
    "\n",
    "# login\n",
    "api.click('//a[contains(text(),\"Sign In\")]')\n",
    "\n",
    "api.set_input_value('//input[@id=\"email\"]', cfg['sites']['username'])\n",
    "time.sleep(0)\n",
    "\n",
    "api.set_input_value('//input[@id=\"password\"]', cfg['sites']['password'])\n",
    "time.sleep(0)\n",
    "\n",
    "# wait for manual auth"
   ]
  },
  {
   "cell_type": "code",
   "execution_count": 6,
   "metadata": {},
   "outputs": [],
   "source": [
    "api.get_url(cfg['sites']['page'])\n",
    "api.click('//a[contains(text(),\"Bump Submission\")]')"
   ]
  },
  {
   "cell_type": "markdown",
   "metadata": {},
   "source": [
    "## discordservers.com"
   ]
  },
  {
   "cell_type": "code",
   "execution_count": null,
   "metadata": {},
   "outputs": [],
   "source": [
    "api.get_url('https://discordservers.com')"
   ]
  },
  {
   "cell_type": "code",
   "execution_count": null,
   "metadata": {},
   "outputs": [],
   "source": [
    "api.click('//div[@class=\"style_2Kds2_main style_1kVGk_menu-active\"]//a[6]')"
   ]
  },
  {
   "cell_type": "code",
   "execution_count": null,
   "metadata": {},
   "outputs": [],
   "source": [
    "api.set_input_value('//input[@class=\"inputDefault-_djjkz input-cIJ7To\"][@type=\"email\"]','obz@delphicraft.net')"
   ]
  },
  {
   "cell_type": "code",
   "execution_count": null,
   "metadata": {},
   "outputs": [],
   "source": [
    "api.set_input_value('//input[@class=\"inputDefault-_djjkz input-cIJ7To\"][@type=\"password\"]','mRhDx2KIeQUAU8%4')"
   ]
  },
  {
   "cell_type": "code",
   "execution_count": null,
   "metadata": {},
   "outputs": [],
   "source": [
    "api.click('//button[@type=\"submit\"]')"
   ]
  },
  {
   "cell_type": "code",
   "execution_count": null,
   "metadata": {},
   "outputs": [],
   "source": [
    "api.click('//button[@class=\"button-38aScr lookFilled-1Gx00P colorBrand-3pXr91 sizeMedium-1AC_Sl grow-q77ONN\"]')"
   ]
  },
  {
   "cell_type": "code",
   "execution_count": null,
   "metadata": {},
   "outputs": [],
   "source": [
    "api.get_url('https://discordservers.com/panel/210536719844376576/view')"
   ]
  },
  {
   "cell_type": "code",
   "execution_count": null,
   "metadata": {},
   "outputs": [],
   "source": [
    "api.click('//a[contains(text(),\"Bump Server\")]')"
   ]
  },
  {
   "cell_type": "code",
   "execution_count": null,
   "metadata": {},
   "outputs": [],
   "source": [
    "api.click('//button[contains(text(),\"Give Free Gems!\")]')"
   ]
  },
  {
   "cell_type": "code",
   "execution_count": null,
   "metadata": {},
   "outputs": [],
   "source": []
  }
 ],
 "metadata": {
  "kernelspec": {
   "display_name": "Python 3",
   "language": "python",
   "name": "python3"
  },
  "language_info": {
   "codemirror_mode": {
    "name": "ipython",
    "version": 3
   },
   "file_extension": ".py",
   "mimetype": "text/x-python",
   "name": "python",
   "nbconvert_exporter": "python",
   "pygments_lexer": "ipython3",
   "version": "3.7.4"
  }
 },
 "nbformat": 4,
 "nbformat_minor": 4
}
